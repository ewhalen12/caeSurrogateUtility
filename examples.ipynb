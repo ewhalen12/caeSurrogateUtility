{
 "cells": [
  {
   "cell_type": "code",
   "execution_count": 1,
   "metadata": {},
   "outputs": [],
   "source": [
    "import sys\n",
    "import numpy as np\n",
    "sys.path.append('D:/ewhalen/OneDrive - Massachusetts Institute of Technology/research/toolbox/caeSurrogateUtility')\n",
    "import caeUtility as cu"
   ]
  },
  {
   "cell_type": "code",
   "execution_count": 2,
   "metadata": {},
   "outputs": [
    {
     "data": {
      "text/plain": [
       "{'errors': [array([ 0.1, -0.1,  0.1]),\n",
       "  array([ 0.1,  0. , -0.4]),\n",
       "  array([0.1, 0.1, 0. ])],\n",
       " 'relErrs': [array([ 1.        , -1.        ,  0.33333333]),\n",
       "  array([ 1. ,  0. , -0.8]),\n",
       "  array([0.05882353, 0.5       , 0.        ])]}"
      ]
     },
     "execution_count": 2,
     "metadata": {},
     "output_type": "execute_result"
    }
   ],
   "source": [
    "trueFields = [np.array([0.1, 0.1, 0.3]), \n",
    "              np.array([0.1, 0.2, 0.5]),\n",
    "              np.array([1.7, 0.2, 0.6])]\n",
    "\n",
    "predictions = [np.array([0.0, 0.2, 0.2]), \n",
    "               np.array([0.0, 0.2, 0.9]),\n",
    "               np.array([1.6, 0.1, 0.6])]\n",
    "\n",
    "cu.computeFieldLossMetrics(trueFields, predictions, level='point')"
   ]
  },
  {
   "cell_type": "code",
   "execution_count": 3,
   "metadata": {},
   "outputs": [
    {
     "data": {
      "text/plain": [
       "{'mse': [0.01, 0.05666666666666668, 0.006666666666666658],\n",
       " 'mae': [0.09999999999999999, 0.16666666666666666, 0.06666666666666662],\n",
       " 'maxAE': [0.1, 0.4, 0.1],\n",
       " 'mae/peak': [0.3333333333333333, 0.3333333333333333, 0.03921568627450978],\n",
       " 'maxAE/peak': [0.33333333333333337, 0.8, 0.05882352941176471],\n",
       " 'relEAtPeak': [0.33333333333333326, 0.8, 0.05882352941176463]}"
      ]
     },
     "execution_count": 3,
     "metadata": {},
     "output_type": "execute_result"
    }
   ],
   "source": [
    "cu.computeFieldLossMetrics(trueFields, predictions, level='field')"
   ]
  },
  {
   "cell_type": "code",
   "execution_count": 4,
   "metadata": {},
   "outputs": [
    {
     "data": {
      "text/plain": [
       "{'mse': 0.024444444444444446,\n",
       " 'mae': 0.1111111111111111,\n",
       " 'peakR2': 0.8430232558139534,\n",
       " 'meanAggR2': -1.2201450892857149}"
      ]
     },
     "execution_count": 4,
     "metadata": {},
     "output_type": "execute_result"
    }
   ],
   "source": [
    "cu.computeFieldLossMetrics(trueFields, predictions, level='set')"
   ]
  },
  {
   "cell_type": "code",
   "execution_count": 5,
   "metadata": {},
   "outputs": [
    {
     "data": {
      "text/plain": [
       "{'mse': array([0.01      , 0.00666667, 0.05666667]),\n",
       " 'mae': array([0.1       , 0.06666667, 0.16666667]),\n",
       " 'r2': array([ 0.98242188, -2.        , -2.64285714])}"
      ]
     },
     "execution_count": 5,
     "metadata": {},
     "output_type": "execute_result"
    }
   ],
   "source": [
    "cu.computeFieldLossMetrics(trueFields, predictions, level='point_agg')"
   ]
  },
  {
   "cell_type": "code",
   "execution_count": 6,
   "metadata": {},
   "outputs": [
    {
     "data": {
      "text/plain": [
       "{'mse': 0.19555555555555557,\n",
       " 'mae': 0.2888888888888889,\n",
       " 'peakR2': -0.10465116279069786,\n",
       " 'meanAggR2': 0.0}"
      ]
     },
     "execution_count": 6,
     "metadata": {},
     "output_type": "execute_result"
    }
   ],
   "source": [
    "cu.baseline(trueFields, avgLevel='point', level='set')"
   ]
  },
  {
   "cell_type": "code",
   "execution_count": 7,
   "metadata": {},
   "outputs": [
    {
     "data": {
      "text/plain": [
       "{'mse': 0.2328395061728395,\n",
       " 'mae': 0.34074074074074073,\n",
       " 'peakR2': -0.4421834625322998,\n",
       " 'meanAggR2': -9.864738343253965}"
      ]
     },
     "execution_count": 7,
     "metadata": {},
     "output_type": "execute_result"
    }
   ],
   "source": [
    "cu.baseline(trueFields, avgLevel='set', level='set')"
   ]
  }
 ],
 "metadata": {
  "kernelspec": {
   "display_name": "ptgeom",
   "language": "python",
   "name": "ptgeom"
  },
  "language_info": {
   "codemirror_mode": {
    "name": "ipython",
    "version": 3
   },
   "file_extension": ".py",
   "mimetype": "text/x-python",
   "name": "python",
   "nbconvert_exporter": "python",
   "pygments_lexer": "ipython3",
   "version": "3.7.7"
  }
 },
 "nbformat": 4,
 "nbformat_minor": 4
}
