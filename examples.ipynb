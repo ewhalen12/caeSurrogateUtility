{
 "cells": [
  {
   "cell_type": "code",
   "execution_count": 1,
   "metadata": {},
   "outputs": [],
   "source": [
    "import sys\n",
    "import numpy as np\n",
    "sys.path.append('D:/ewhalen/OneDrive - Massachusetts Institute of Technology/research/toolbox/caeSurrogateUtility')\n",
    "import caeUtility as cu"
   ]
  },
  {
   "cell_type": "code",
   "execution_count": 2,
   "metadata": {},
   "outputs": [
    {
     "data": {
      "text/plain": [
       "{'errors': [array([0.1, 0. , 0.1]),\n",
       "  array([ 0.1,  0. , -0.4]),\n",
       "  array([0.1, 0.1, 0. ])],\n",
       " 'relErrs': [array([1.        , 0.        , 0.33333333]),\n",
       "  array([ 1. ,  0. , -0.8]),\n",
       "  array([0.05882353, 0.5       , 0.        ])]}"
      ]
     },
     "execution_count": 2,
     "metadata": {},
     "output_type": "execute_result"
    }
   ],
   "source": [
    "trueFields = [np.array([0.1, 0.2, 0.3]), \n",
    "              np.array([0.1, 0.2, 0.5]),\n",
    "              np.array([1.7, 0.2, 0.6])]\n",
    "\n",
    "predictions = [np.array([0.0, 0.2, 0.2]), \n",
    "               np.array([0.0, 0.2, 0.9]),\n",
    "               np.array([1.6, 0.1, 0.6])]\n",
    "\n",
    "cu.computeFieldLossMetrics(trueFields, predictions, level='point')"
   ]
  },
  {
   "cell_type": "code",
   "execution_count": 3,
   "metadata": {},
   "outputs": [
    {
     "data": {
      "text/plain": [
       "{'mse': [0.006666666666666665, 0.05666666666666668, 0.006666666666666658],\n",
       " 'mae': [0.06666666666666667, 0.16666666666666666, 0.06666666666666662],\n",
       " 'maxAE': [0.1, 0.4, 0.1],\n",
       " 'mae/peak': [0.22222222222222224, 0.3333333333333333, 0.03921568627450978],\n",
       " 'maxAE/peak': [0.33333333333333337, 0.8, 0.05882352941176471],\n",
       " 'relEAtPeak': [0.33333333333333326, 0.8, 0.05882352941176463]}"
      ]
     },
     "execution_count": 3,
     "metadata": {},
     "output_type": "execute_result"
    }
   ],
   "source": [
    "cu.computeFieldLossMetrics(trueFields, predictions, level='field')"
   ]
  },
  {
   "cell_type": "code",
   "execution_count": 4,
   "metadata": {},
   "outputs": [
    {
     "data": {
      "text/plain": [
       "{'mse': 0.02333333333333333,\n",
       " 'mae': 0.09999999999999999,\n",
       " 'peakR2': 0.8430232558139534}"
      ]
     },
     "execution_count": 4,
     "metadata": {},
     "output_type": "execute_result"
    }
   ],
   "source": [
    "cu.computeFieldLossMetrics(trueFields, predictions, level='set')"
   ]
  },
  {
   "cell_type": "code",
   "execution_count": 5,
   "metadata": {},
   "outputs": [
    {
     "data": {
      "text/plain": [
       "{'mse': array([0.01      , 0.00333333, 0.05666667]),\n",
       " 'mae': array([0.1       , 0.03333333, 0.16666667]),\n",
       " 'r2': array([ 9.82421875e-01, -4.32691405e+30, -2.64285714e+00])}"
      ]
     },
     "execution_count": 5,
     "metadata": {},
     "output_type": "execute_result"
    }
   ],
   "source": [
    "cu.computeFieldLossMetrics(trueFields, predictions, level='point_agg')"
   ]
  }
 ],
 "metadata": {
  "kernelspec": {
   "display_name": "ptgeom",
   "language": "python",
   "name": "ptgeom"
  },
  "language_info": {
   "codemirror_mode": {
    "name": "ipython",
    "version": 3
   },
   "file_extension": ".py",
   "mimetype": "text/x-python",
   "name": "python",
   "nbconvert_exporter": "python",
   "pygments_lexer": "ipython3",
   "version": "3.7.7"
  }
 },
 "nbformat": 4,
 "nbformat_minor": 4
}
